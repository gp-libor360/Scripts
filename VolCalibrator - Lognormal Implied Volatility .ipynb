{
 "cells": [
  {
   "cell_type": "code",
   "execution_count": 66,
   "metadata": {},
   "outputs": [
    {
     "name": "stdout",
     "output_type": "stream",
     "text": [
      "\n",
      "MC for correlation  0.7\n",
      "Finished generating sample paths\n",
      "Calculating Option Price and Implied Vols of F(t)\n",
      "Completed Calculation of Implied Volatilities\n",
      "\n",
      "MC for correlation  0.8\n",
      "Finished generating sample paths\n",
      "Calculating Option Price and Implied Vols of F(t)\n",
      "Completed Calculation of Implied Volatilities\n",
      "\n",
      "MC for correlation  0.9\n",
      "Finished generating sample paths\n",
      "Calculating Option Price and Implied Vols of F(t)\n",
      "Completed Calculation of Implied Volatilities\n",
      "\n",
      "MC for correlation  1\n",
      "Finished generating sample paths\n",
      "Calculating Option Price and Implied Vols of F(t)\n",
      "Completed Calculation of Implied Volatilities\n",
      "\n",
      "\n",
      "Calculating Option Price and Implied Vols of L(t)\n",
      "Completed Calculation of Implied Volatilities\n"
     ]
    },
    {
     "data": {
      "text/plain": [
       "Text(0, 0.5, 'Implied Volaility')"
      ]
     },
     "execution_count": 66,
     "metadata": {},
     "output_type": "execute_result"
    },
    {
     "data": {
      "image/png": "[encoded data removed]",
      "text/plain": [
       "<Figure size 432x288 with 1 Axes>"
      ]
     },
     "metadata": {
      "needs_background": "light"
     },
     "output_type": "display_data"
    }
   ],
   "source": [
    "#import packages here\n",
    "import numpy as np\n",
    "import pandas as pd\n",
    "\n",
    "from scipy.stats import norm\n",
    "\n",
    "def NormPdf(X):\n",
    "    return np.exp(-0.5*(X**2))/np.sqrt(2*np.pi)\n",
    "\n",
    "#Black Scholes Option Pricing Formula\n",
    "def BlackScholes(S,K,v):\n",
    "    return S * norm.cdf((np.log(S/K)+0.5*v*v)/v) - K * norm.cdf((np.log(S/K)-0.5*v*v)/v)\n",
    "#define Example Problem Parameters\n",
    "\n",
    "T = 10\n",
    "L0 = 0.03\n",
    "F0 = 0.027\n",
    "sigma = 0.1\n",
    "alpha = 0.05\n",
    "rho = [0.7,0.8,0.9,1]\n",
    "\n",
    "\n",
    "# define Stochastic Process for L and F\n",
    "\n",
    "def LStoch(L_t,dW):\n",
    "    return sigma*(L_t+alpha)*dW\n",
    " \n",
    "def FStoch(L_t,dW,r):\n",
    "    return r*sigma*(L_t+alpha)*dW\n",
    "\n",
    "from scipy.optimize import fsolve\n",
    "\n",
    "#Function to solve for Implied Volatility\n",
    "def SolveVol(sigmaK,S0,K,t,CT):     ## CT - Option Price calculated by MC\n",
    "    return CT - BlackScholes(S0,K,sigmaK*np.sqrt(t))\n",
    "\n",
    "\n",
    "#Specify Parameters for MC Simulation\n",
    "ImpliedVols = {}      # Dictionary to hold the Implied Vols for different rho\n",
    "NPaths = 300000       # Num of Simulation Paths\n",
    "dt = 0.1              # time increment\n",
    "\n",
    "for cor in rho:\n",
    "    print('\\nMC for correlation ',cor)\n",
    "    n=1\n",
    "    Lt = np.full((NPaths),L0)      ## Initialize L(t) and F(t) to L0 and F0\n",
    "    Ft = np.full((NPaths),F0) \n",
    "    moneyness = np.linspace(-0.015,0.015,100)    \n",
    "    \n",
    "    while n <= T/dt:            ##Loop through time\n",
    "        \n",
    "        ##Generate correlated Std Brownian Motion for L and F\n",
    "        dWL = np.random.normal(0, np.sqrt(dt), NPaths)      \n",
    "        dWF = cor * dWL + np.sqrt(1 - cor **2) * np.random.normal(0, np.sqrt(dt), NPaths)\n",
    "\n",
    "        ## Compute and update the Trajectory of L and F for this period\n",
    "        Ltemp = Lt + 0                          \n",
    "        Lt = Lt + LStoch(Ltemp,dWL)\n",
    "        Ft = Ft + FStoch(Ltemp,dWF,cor)\n",
    "        n = n+1\n",
    "    \n",
    "    print('Finished generating sample paths')\n",
    "    print('Calculating Option Price and Implied Vols of F(t)')\n",
    "    K = F0 + moneyness        ## Generate Strike Prices for index F(t) \n",
    "    FVols = []                ## Store Computed Implied Volatilities here\n",
    "\n",
    "    for k in K:\n",
    "        #Calculate the pay off of each Path of F(t)\n",
    "        Payoff = [max(s-k,0) for s in Ft]     \n",
    "        #Undiscounted Option Price -> Mean value of Payoffs\n",
    "        OptionPrice = np.mean(Payoff)      \n",
    "        ##Solve BS to find Implied Vol\n",
    "        FVols.append(fsolve(SolveVol,0.4,args=(F0,k,T,OptionPrice))) \n",
    "        \n",
    "    print('Completed Calculation of Implied Volatilities')\n",
    "    ImpliedVols[cor] = FVols    ##Update to main Dict\n",
    "\n",
    "print('\\n')\n",
    "print('Calculating Option Price and Implied Vols of L(t)')\n",
    "K = L0 + moneyness        ## Generate Strike Prices for index L(t) \n",
    "LVols = []                ## Store Computed Implied Volatilities here\n",
    "for k in K:\n",
    "    \n",
    "    #Calculate the pay off of each Path of L(t)\n",
    "    Payoff = [max(s-k,0) for s in Lt]     \n",
    "    OptionPrice = np.mean(Payoff)        #Undiscounted Option Price -> Mean value of Payoffs\n",
    "    LVols.append(fsolve(SolveVol,0.4,args=(L0,k,T,OptionPrice))) ##Solve BS to find Implied Vol\n",
    "    \n",
    "print('Completed Calculation of Implied Volatilities')\n",
    "\n",
    "\n",
    "import matplotlib.pyplot as plt\n",
    "plt.plot(moneyness,LVols,label='LIBOR',color='blue')\n",
    "plt.plot(moneyness,ImpliedVols[0.7],label='F: rho = 0.7',color='green')\n",
    "plt.plot(moneyness,ImpliedVols[0.8],label='F: rho = 0.8',color='purple')\n",
    "plt.plot(moneyness,ImpliedVols[0.9],label='F: rho = 0.9',color='orange')\n",
    "plt.plot(moneyness,ImpliedVols[1],label='F: rho = 1',color='red')\n",
    "plt.legend()\n",
    "plt.title('Implied Volatilities vs Moneyness')\n",
    "plt.xlabel('Moneyness')\n",
    "plt.ylabel('Implied Volaility')"
   ]
  },
  {
   "cell_type": "code",
   "execution_count": null,
   "metadata": {},
   "outputs": [],
   "source": []
  },
  {
   "cell_type": "code",
   "execution_count": null,
   "metadata": {},
   "outputs": [],
   "source": []
  },
  {
   "cell_type": "code",
   "execution_count": null,
   "metadata": {},
   "outputs": [],
   "source": []
  },
  {
   "cell_type": "code",
   "execution_count": 52,
   "metadata": {},
   "outputs": [],
   "source": []
  },
  {
   "cell_type": "code",
   "execution_count": null,
   "metadata": {},
   "outputs": [],
   "source": []
  },
  {
   "cell_type": "code",
   "execution_count": null,
   "metadata": {},
   "outputs": [],
   "source": []
  },
  {
   "cell_type": "code",
   "execution_count": null,
   "metadata": {},
   "outputs": [],
   "source": []
  },
  {
   "cell_type": "code",
   "execution_count": null,
   "metadata": {},
   "outputs": [],
   "source": []
  },
  {
   "cell_type": "code",
   "execution_count": null,
   "metadata": {},
   "outputs": [],
   "source": []
  },
  {
   "cell_type": "code",
   "execution_count": null,
   "metadata": {},
   "outputs": [],
   "source": []
  },
  {
   "cell_type": "code",
   "execution_count": null,
   "metadata": {},
   "outputs": [],
   "source": []
  },
  {
   "cell_type": "code",
   "execution_count": null,
   "metadata": {},
   "outputs": [],
   "source": []
  },
  {
   "cell_type": "code",
   "execution_count": null,
   "metadata": {},
   "outputs": [],
   "source": []
  },
  {
   "cell_type": "code",
   "execution_count": null,
   "metadata": {},
   "outputs": [],
   "source": []
  },
  {
   "cell_type": "code",
   "execution_count": null,
   "metadata": {},
   "outputs": [],
   "source": []
  },
  {
   "cell_type": "code",
   "execution_count": null,
   "metadata": {},
   "outputs": [],
   "source": []
  },
  {
   "cell_type": "code",
   "execution_count": null,
   "metadata": {},
   "outputs": [],
   "source": []
  },
  {
   "cell_type": "code",
   "execution_count": null,
   "metadata": {},
   "outputs": [],
   "source": []
  },
  {
   "cell_type": "code",
   "execution_count": null,
   "metadata": {},
   "outputs": [],
   "source": []
  },
  {
   "cell_type": "code",
   "execution_count": null,
   "metadata": {},
   "outputs": [],
   "source": []
  }
 ],
 "metadata": {
  "kernelspec": {
   "display_name": "Python 3",
   "language": "python",
   "name": "python3"
  },
  "language_info": {
   "codemirror_mode": {
    "name": "ipython",
    "version": 3
   },
   "file_extension": ".py",
   "mimetype": "text/x-python",
   "name": "python",
   "nbconvert_exporter": "python",
   "pygments_lexer": "ipython3",
   "version": "3.7.6"
  }
 },
 "nbformat": 4,
 "nbformat_minor": 4
}
